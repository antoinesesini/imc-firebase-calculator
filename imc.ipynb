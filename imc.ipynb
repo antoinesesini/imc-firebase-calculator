{
 "cells": [
  {
   "cell_type": "code",
   "execution_count": 23,
   "metadata": {},
   "outputs": [
    {
     "data": {
      "application/vnd.jupyter.widget-view+json": {
       "model_id": "738c39ee915741d0988005c59dcdd92d",
       "version_major": 2,
       "version_minor": 0
      },
      "text/plain": [
       "Text(value='', placeholder='Your name')"
      ]
     },
     "metadata": {},
     "output_type": "display_data"
    },
    {
     "data": {
      "application/vnd.jupyter.widget-view+json": {
       "model_id": "9abe5d2d6aca4dd5874ce9fb13195e2c",
       "version_major": 2,
       "version_minor": 0
      },
      "text/plain": [
       "Text(value='', placeholder='Your weight (kg)')"
      ]
     },
     "metadata": {},
     "output_type": "display_data"
    },
    {
     "data": {
      "application/vnd.jupyter.widget-view+json": {
       "model_id": "5b9e8faca45f4a7fbf394284550584cf",
       "version_major": 2,
       "version_minor": 0
      },
      "text/plain": [
       "Text(value='', placeholder='Your height (cm)')"
      ]
     },
     "metadata": {},
     "output_type": "display_data"
    },
    {
     "data": {
      "application/vnd.jupyter.widget-view+json": {
       "model_id": "3c8aa67ee05f4cecb9d269169b28cc26",
       "version_major": 2,
       "version_minor": 0
      },
      "text/plain": [
       "Button(description='Add Data', style=ButtonStyle())"
      ]
     },
     "metadata": {},
     "output_type": "display_data"
    },
    {
     "data": {
      "application/vnd.jupyter.widget-view+json": {
       "model_id": "f340c3999be24229a2daef081f0a38a8",
       "version_major": 2,
       "version_minor": 0
      },
      "text/plain": [
       "Text(value='', placeholder='Name to search')"
      ]
     },
     "metadata": {},
     "output_type": "display_data"
    },
    {
     "data": {
      "application/vnd.jupyter.widget-view+json": {
       "model_id": "828214957b544f73b15ce39e3114b417",
       "version_major": 2,
       "version_minor": 0
      },
      "text/plain": [
       "Button(description='Read Data', style=ButtonStyle())"
      ]
     },
     "metadata": {},
     "output_type": "display_data"
    },
    {
     "data": {
      "application/vnd.jupyter.widget-view+json": {
       "model_id": "d2cb61f2d310460eae76634df00700de",
       "version_major": 2,
       "version_minor": 0
      },
      "text/plain": [
       "Output()"
      ]
     },
     "metadata": {},
     "output_type": "display_data"
    }
   ],
   "source": [
    "import firebase_admin\n",
    "from firebase_admin import credentials, db\n",
    "from unidecode import unidecode\n",
    "import ipywidgets as widgets\n",
    "from IPython.display import display, clear_output\n",
    "\n",
    "# Check if Firebase app is already initialized\n",
    "if not firebase_admin._apps:\n",
    "    # Initialize the Firebase app with the certificate and the URL of the Realtime Database\n",
    "    cred = credentials.Certificate(\"credentials.json\")\n",
    "    firebase_admin.initialize_app(cred, {\n",
    "        'databaseURL': 'https://inf857---tp1---exo1---imc-default-rtdb.firebaseio.com/'\n",
    "    })\n",
    "\n",
    "# Create output widget\n",
    "output = widgets.Output()\n",
    "\n",
    "# Function to write data\n",
    "def write_data(name, weight, height):\n",
    "    with output:\n",
    "        clear_output()\n",
    "        # Validation checks\n",
    "        if len(name) < 1:\n",
    "            print(\"Error: Name must have at least one character.\")\n",
    "            return\n",
    "        try:\n",
    "            weight = float(weight)\n",
    "            height = float(height)\n",
    "        except ValueError:\n",
    "            print(\"Error: Weight and height must be numeric values.\")\n",
    "            return\n",
    "        ref = db.reference('users')\n",
    "        imc = round(weight / (height / 100) ** 2, 2) # Calculate IMC\n",
    "        ref.push({\n",
    "            'name': unidecode(name).lower(),\n",
    "            'weight': weight,\n",
    "            'height': height,\n",
    "            'imc': imc\n",
    "        })\n",
    "        print(f\"Data for {name} added successfully! IMC: {imc}\")\n",
    "\n",
    "# Function to read data\n",
    "def read_data(search_name):\n",
    "    with output:\n",
    "        clear_output()\n",
    "        search_name = unidecode(search_name).lower()\n",
    "        ref = db.reference('users')\n",
    "        data = ref.get()\n",
    "\n",
    "        # Search in the data\n",
    "        find = False\n",
    "        if data:\n",
    "            for _, value in data.items():\n",
    "                if value['name'] == search_name:\n",
    "                    print(f\"{value['name']}: Weight = {value['weight']} kg, Height = {value['height']} cm, IMC = {value['imc']}\")\n",
    "                    find = True\n",
    "        if not find:\n",
    "            print(\"No data found for this name.\")\n",
    "\n",
    "# Function to handle add data button click\n",
    "def on_add_data_clicked(b):\n",
    "    name = name_input.value\n",
    "    weight = weight_input.value\n",
    "    height = height_input.value\n",
    "    write_data(name, weight, height)\n",
    "\n",
    "# Function to handle read data button click\n",
    "def on_read_data_clicked(b):\n",
    "    search_name = search_input.value\n",
    "    read_data(search_name)\n",
    "\n",
    "# Create input widgets\n",
    "name_input = widgets.Text(placeholder='Your name')\n",
    "weight_input = widgets.Text(placeholder='Your weight (kg)')\n",
    "height_input = widgets.Text(placeholder='Your height (cm)')\n",
    "search_input = widgets.Text(placeholder='Name to search')\n",
    "\n",
    "# Create buttons\n",
    "add_data_button = widgets.Button(description=\"Add Data\")\n",
    "read_data_button = widgets.Button(description=\"Read Data\")\n",
    "\n",
    "# Set up button click events\n",
    "add_data_button.on_click(on_add_data_clicked)\n",
    "read_data_button.on_click(on_read_data_clicked)\n",
    "\n",
    "# Display widgets\n",
    "display(name_input, weight_input, height_input, add_data_button)\n",
    "display(search_input, read_data_button)\n",
    "display(output)\n"
   ]
  }
 ],
 "metadata": {
  "kernelspec": {
   "display_name": ".venv",
   "language": "python",
   "name": "python3"
  },
  "language_info": {
   "codemirror_mode": {
    "name": "ipython",
    "version": 3
   },
   "file_extension": ".py",
   "mimetype": "text/x-python",
   "name": "python",
   "nbconvert_exporter": "python",
   "pygments_lexer": "ipython3",
   "version": "3.12.3"
  }
 },
 "nbformat": 4,
 "nbformat_minor": 2
}
